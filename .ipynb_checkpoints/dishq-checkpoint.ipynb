{
 "cells": [
  {
   "cell_type": "code",
   "execution_count": 1,
   "metadata": {},
   "outputs": [],
   "source": [
    "import pickle\n",
    "import spacy\n",
    "from sklearn import svm\n",
    "from sklearn.manifold import TSNE as tsne\n",
    "\n",
    "\n",
    "EMBED_TAGS = ['root', 'nsubj','adv', 'adj', 'det']\n",
    "#tags whose values' embeddings will be considered\n",
    "BOW_TAGS = ['verb', 'adv', 'adj', 'det', 'aux', 'noun', 'pron', 'propn', 'intj', 'nsubj', 'det']\n",
    "#tags to make bag of words"
   ]
  },
  {
   "cell_type": "code",
   "execution_count": 2,
   "metadata": {},
   "outputs": [
    {
     "name": "stdout",
     "output_type": "stream",
     "text": [
      "Loading spacy en web large..\n"
     ]
    }
   ],
   "source": [
    "NLP = spacy.load('en_core_web_lg')\n",
    "print(\"Loading spacy en web large..\")"
   ]
  },
  {
   "cell_type": "code",
   "execution_count": 99,
   "metadata": {},
   "outputs": [],
   "source": [
    "def load_pickle(filename=\"weights.pkl\"):\n",
    "    \"\"\"load saved, trained weights from file\"\"\"\n",
    "    with open(filename, 'rb') as pfile:\n",
    "        model = pickle.load(pfile)\n",
    "        return model\n",
    "    return None\n",
    "\n",
    "def save_pickle(data, filename=\"weights.pkl\"):\n",
    "    \"\"\"save  trained weights to file\"\"\"\n",
    "    with open(filename, 'wb') as pfile:\n",
    "        pickle.dump(data, pfile)\n",
    "        pfile.close()\n",
    "\n",
    "def inc_bow(dictionary, key):\n",
    "    \"\"\"increment the value at key\"\"\"\n",
    "    if key.strip() in dictionary.keys():\n",
    "        dictionary[key] += 1\n",
    "#    else:\n",
    "#        dictionary[key]=1\n",
    "\n",
    "def add_embeddings(tags_lst, tag_dict, debug_dict, token, tag, dim_reduce=False, dims=300):\n",
    "    \"\"\"given a tag(pos or dependency), add its embeddings value to dictionary\"\"\"\n",
    "    if (tag in tags_lst) and (tag not in tag_dict.keys()):\n",
    "            #include only the first value of a kind\n",
    "            embed_vec = None\n",
    "            if dims <= 1:\n",
    "                dims=1\n",
    "                embed_vec = [token.vector_norm] # l2 norm\n",
    "            elif dim_reduce and dims < 300:\n",
    "                #if we want to reduce the glove vector to smaller dimension. default is 300\n",
    "                #dims = 3 if dims>4 else dims #because of a weird bug with tsne\n",
    "                embed_vec = list(tsne(n_components=dims).fit_transform([token.vector,token.vector])[0])\n",
    "            else:\n",
    "                embed_vec = list(token.vector)\n",
    "            tag_dict[tag] = embed_vec\n",
    "            debug_dict[tag]=token.text\n",
    "\n",
    "def process_sentence(sentence, dim_reduce=False, dims=300,echo=False):\n",
    "    \"\"\"process each sentence i.e extract only required parts i.e pos and dependency\"\"\"\n",
    "    tokens = NLP(sentence)\n",
    "    embeddings = {}\n",
    "    embeds_for_debug={}\n",
    "    bag_of_words = {key:0 for key in BOW_TAGS}\n",
    "    for token in tokens:\n",
    "        deptag = token.dep_.lower()\n",
    "        postag = token.pos_.lower()\n",
    "        if echo:\n",
    "            print(token.text,deptag,postag)\n",
    "\n",
    "        inc_bow(bag_of_words, deptag)\n",
    "        inc_bow(bag_of_words, postag)\n",
    "\n",
    "        add_embeddings(EMBED_TAGS,embeddings,embeds_for_debug,token,deptag,dim_reduce,dims)\n",
    "        add_embeddings(EMBED_TAGS,embeddings,embeds_for_debug,token,postag,dim_reduce,dims)\n",
    "\n",
    "\n",
    "    for d in EMBED_TAGS:\n",
    "        if d not in embeddings.keys():\n",
    "            embeddings[d]=[0]*dims\n",
    "            embeds_for_debug[d]=''\n",
    "\n",
    "    if echo:\n",
    "        print(\"\\nDeps:\\n\",embeds_for_debug,\"\\nbow:\\n\",bag_of_words)\n",
    "    return sum([sum(list(embeddings.values()),[]) ,list(bag_of_words.values())],[])\n",
    "\n",
    "\n",
    "def process_data(x_raw, split_sentence=False, dim_reduce=False, dims=300):\n",
    "    \"\"\"extract required data for either training or for prediction \"\"\"\n",
    "    new_x = []\n",
    "    for row in x_raw:\n",
    "        if split_sentence:\n",
    "            sentences = NLP(row)\n",
    "            for sentence in sentences.sents:\n",
    "                new_x.append(process_sentence(sentence.string, dim_reduce, dims))\n",
    "        else:\n",
    "            new_x.append(process_sentence(row, dim_reduce, dims))\n",
    "    return new_x\n",
    "\n",
    "def train(x_file, y_file, classifier, split_sentence=False, dim_reduce=False, dims=300):\n",
    "    \"\"\"train the model\"\"\"\n",
    "    try:\n",
    "        x = open(x_file).read().split(\"\\n\")\n",
    "        y = open(y_file).read().split(\"\\n\")\n",
    "        x = process_data(x, split_sentence, dim_reduce, dims)\n",
    "        #classifier = svm.LinearSVC()\n",
    "        classifier.fit(x,y)\n",
    "        save_pickle(classifier)\n",
    "        return classifier\n",
    "    except Exception as e:\n",
    "        print(\"Unable to proceed with training.\\n\")\n",
    "        print(e)\n",
    "    return None\n",
    "\n",
    "def predict(sentences, classifier=None,split_sentence=False, dim_reduce=False, dims=300):\n",
    "    \"\"\"sentence must be a unicode encoded string\"\"\"\n",
    "    if classifier is None:\n",
    "        classifier=load_pickle()\n",
    "    return classifier.decision_function(process_data(sentences,split_sentence, dim_reduce, dims))"
   ]
  },
  {
   "cell_type": "code",
   "execution_count": 117,
   "metadata": {},
   "outputs": [
    {
     "data": {
      "text/plain": [
       "array([[-1.11493581,  0.62589244, -0.02715385,  0.67404367,  0.75963113]])"
      ]
     },
     "execution_count": 117,
     "metadata": {},
     "output_type": "execute_result"
    }
   ],
   "source": [
    "sents=[\"this is about me and totally me and mine\"]\n",
    "predict(sents,cls,False,True,3)"
   ]
  },
  {
   "cell_type": "code",
   "execution_count": 82,
   "metadata": {},
   "outputs": [],
   "source": []
  },
  {
   "cell_type": "code",
   "execution_count": 83,
   "metadata": {},
   "outputs": [
    {
     "name": "stdout",
     "output_type": "stream",
     "text": [
      "LinearSVC(C=1.0, class_weight=None, dual=True, fit_intercept=True,\n",
      "     intercept_scaling=1, loss='squared_hinge', max_iter=1000,\n",
      "     multi_class='ovr', penalty='l2', random_state=None, tol=0.0001,\n",
      "     verbose=0)\n"
     ]
    }
   ],
   "source": [
    "cls=train('X.txt','ym.txt',svm.LinearSVC(),False,True,3)"
   ]
  },
  {
   "cell_type": "code",
   "execution_count": 84,
   "metadata": {},
   "outputs": [],
   "source": [
    "save_pickle(cls)\n",
    "predict(sents,cls,False,True,3)\n",
    "clf=load_pickle()\n",
    "predict(sents,clf,False,True,3)"
   ]
  },
  {
   "cell_type": "code",
   "execution_count": 101,
   "metadata": {},
   "outputs": [],
   "source": [
    "from sklearn import tree\n",
    "cld=train('sx.txt','sy.txt',tree.DecisionTreeClassifier(),False,True,3)"
   ]
  },
  {
   "cell_type": "code",
   "execution_count": 112,
   "metadata": {},
   "outputs": [],
   "source": [
    "cld.predict([process_sentence(\"this  is not about me\",True,3)])"
   ]
  },
  {
   "cell_type": "code",
   "execution_count": 113,
   "metadata": {},
   "outputs": [
    {
     "data": {
      "text/plain": [
       "array(['3'], dtype='<U1')"
      ]
     },
     "execution_count": 113,
     "metadata": {},
     "output_type": "execute_result"
    }
   ],
   "source": []
  },
  {
   "cell_type": "code",
   "execution_count": 100,
   "metadata": {},
   "outputs": [],
   "source": []
  },
  {
   "cell_type": "code",
   "execution_count": null,
   "metadata": {},
   "outputs": [],
   "source": []
  }
 ],
 "metadata": {
  "kernelspec": {
   "display_name": "Python 3",
   "language": "python",
   "name": "python3"
  },
  "language_info": {
   "codemirror_mode": {
    "name": "ipython",
    "version": 3
   },
   "file_extension": ".py",
   "mimetype": "text/x-python",
   "name": "python",
   "nbconvert_exporter": "python",
   "pygments_lexer": "ipython3",
   "version": "3.6.4"
  }
 },
 "nbformat": 4,
 "nbformat_minor": 2
}
